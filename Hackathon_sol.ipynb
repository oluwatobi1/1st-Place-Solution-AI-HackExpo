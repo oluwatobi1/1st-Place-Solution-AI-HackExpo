{
 "cells": [
  {
   "cell_type": "code",
   "execution_count": null,
   "metadata": {
    "colab": {
     "base_uri": "https://localhost:8080/",
     "height": 301
    },
    "colab_type": "code",
    "id": "TIaVhxe4E2Qv",
    "outputId": "10a9c86a-1f8b-4603-8788-bd55268ce5d0"
   },
   "outputs": [],
   "source": [
    "# Always run this first before any import\n",
    "# FastAI and Kaggle Setup\n",
    "!curl https://course-v3.fast.ai/setup/colab | bash\n",
    "! pip install kaggle"
   ]
  },
  {
   "cell_type": "markdown",
   "metadata": {
    "colab_type": "text",
    "id": "o_iICgLMLmdx"
   },
   "source": [
    "## Downloading the Data\n",
    "\n",
    "\n",
    "Go to the link below, and remember to replace the **username** field below with your **kaggle username**  \n",
    "\n",
    "https://www.kaggle.com/[username]/account\n",
    "\n",
    "Then click on **Create New API Token**\n",
    "It should have downloaded a  file called kaggle.json\n",
    "\n",
    "Locate the kaggle.json file on your computer and upload it to this workspace (Click on files in this workspace and select upload)\n",
    "\n",
    "After uploading the kaggle.json file, run the next line"
   ]
  },
  {
   "cell_type": "code",
   "execution_count": null,
   "metadata": {
    "colab": {},
    "colab_type": "code",
    "id": "89cdMDTyKl1B"
   },
   "outputs": [],
   "source": [
    "# Make a folder in the root called .kaggle and move the uploaded kaggle.json \n",
    "# file into the .kaggle directory\n",
    "!mkdir ~/.kaggle/ && mv kaggle.json ~/.kaggle\n",
    "!chmod 600 /root/.kaggle/kaggle.json"
   ]
  },
  {
   "cell_type": "code",
   "execution_count": null,
   "metadata": {
    "colab": {},
    "colab_type": "code",
    "id": "n5yqOaK3ZQyB"
   },
   "outputs": [],
   "source": []
  },
  {
   "cell_type": "code",
   "execution_count": null,
   "metadata": {
    "colab": {
     "base_uri": "https://localhost:8080/",
     "height": 34
    },
    "colab_type": "code",
    "id": "wnljoAw7ZQTp",
    "outputId": "5879e34a-cd00-42f6-ecb3-c1c24cc1b7a7"
   },
   "outputs": [],
   "source": [
    "# The Kaggle API client expects this file to be in ~/.kaggle,\n",
    "# so move it there.\n",
    "!mkdir -p ~/.kaggle\n",
    "!cp kaggle.json ~/.kaggle/\n",
    "\n",
    "# This permissions change avoids a warning on Kaggle tool startup.\n",
    "!chmod 600 ~/.kaggle/kaggle.json"
   ]
  },
  {
   "cell_type": "code",
   "execution_count": null,
   "metadata": {
    "colab": {
     "base_uri": "https://localhost:8080/",
     "height": 176
    },
    "colab_type": "code",
    "id": "bBEoSCJyQwtu",
    "outputId": "a628cb7c-a14b-4037-9b8a-4357f3a6a5ac"
   },
   "outputs": [],
   "source": [
    "# Download the data \n",
    "!kaggle competitions download -c hackexpo2018"
   ]
  },
  {
   "cell_type": "code",
   "execution_count": null,
   "metadata": {
    "colab": {},
    "colab_type": "code",
    "id": "fFxzerMUQ6hi"
   },
   "outputs": [],
   "source": [
    "# Unzip the files into train and test directories\n",
    "!unzip test.zip \n",
    "!unzip train.zip\n",
    "\n",
    "# remove the sample-submission.csv and the zipped files\n",
    "!rm -rf sample-submission.csv \n",
    "!rm -rf test.zip train.zip\n"
   ]
  },
  {
   "cell_type": "code",
   "execution_count": null,
   "metadata": {
    "colab": {},
    "colab_type": "code",
    "id": "rSRlFI13HshG"
   },
   "outputs": [],
   "source": [
    "# Import necessary libraries\n",
    "from fastai import *\n",
    "from fastai.vision import * \n",
    "import os\n",
    "import pandas as pd\n",
    "import numpy as np\n",
    "from PIL import Image\n",
    "import matplotlib.pyplot as plt\n",
    "\n",
    "%matplotlib inline\n"
   ]
  },
  {
   "cell_type": "code",
   "execution_count": null,
   "metadata": {
    "colab": {},
    "colab_type": "code",
    "id": "NjUN0ux0Hx3z"
   },
   "outputs": [],
   "source": [
    "np.random.seed(42)\n",
    "path = Path('train')\n",
    "path.mkdir(parents=True, exist_ok=True)\n",
    "src = (ImageItemList.from_folder(path, folder='train', extensions='jpg').random_split_by_pct(0.2))\n"
   ]
  },
  {
   "cell_type": "code",
   "execution_count": null,
   "metadata": {
    "colab": {},
    "colab_type": "code",
    "id": "11cE84oRH34F"
   },
   "outputs": [],
   "source": [
    "# Get some pre-built  transforms from FastAI library\n",
    "tfms = get_transforms()\n",
    "tfms"
   ]
  },
  {
   "cell_type": "code",
   "execution_count": null,
   "metadata": {
    "colab": {},
    "colab_type": "code",
    "id": "-7i5lynJVxol"
   },
   "outputs": [],
   "source": [
    "# Read the Train Data, and it randomly into 80% train set \n",
    "# and 20% for validation set\n",
    "\n",
    "data = (ImageItemList.from_folder(path)\n",
    "        .random_split_by_pct(0.2)\n",
    "        .label_from_folder()\n",
    "        .transform(tfms, size=224)\n",
    "        .databunch())"
   ]
  },
  {
   "cell_type": "code",
   "execution_count": null,
   "metadata": {
    "colab": {},
    "colab_type": "code",
    "id": "t0pjYvyXWTZB"
   },
   "outputs": [],
   "source": [
    "# Show some of the Images in the Dataset\n",
    "data.show_batch(rows=3, figsize=(7,6))\n"
   ]
  },
  {
   "cell_type": "code",
   "execution_count": null,
   "metadata": {
    "colab": {},
    "colab_type": "code",
    "id": "e5nDr1bNYstT"
   },
   "outputs": [],
   "source": [
    "# Create a model\n",
    "learn = create_cnn(data, models.resnet152, metrics=accuracy)\n",
    "\n",
    "# Train the model for 6 epochs\n",
    "learn.fit_one_cycle(9)"
   ]
  },
  {
   "cell_type": "code",
   "execution_count": null,
   "metadata": {
    "colab": {},
    "colab_type": "code",
    "id": "kUpyEPuhX74d"
   },
   "outputs": [],
   "source": [
    "# Get the top predictions our model got wrong\n",
    "interp = ClassificationInterpretation.from_learner(learn)\n",
    "interp.plot_top_losses(9, figsize=(15,11))"
   ]
  },
  {
   "cell_type": "code",
   "execution_count": null,
   "metadata": {
    "colab": {},
    "colab_type": "code",
    "id": "O5SnOkDQ9So8"
   },
   "outputs": [],
   "source": [
    "interp.plot_confusion_matrix(figsize=(12,12), dpi=60)\n"
   ]
  },
  {
   "cell_type": "code",
   "execution_count": null,
   "metadata": {
    "colab": {},
    "colab_type": "code",
    "id": "OgKdz8hCZ90G"
   },
   "outputs": [],
   "source": [
    "# Save the trained model\n",
    "learn.save('model-resnet152')"
   ]
  },
  {
   "cell_type": "code",
   "execution_count": null,
   "metadata": {
    "colab": {},
    "colab_type": "code",
    "id": "XCMKO1CfGxj_"
   },
   "outputs": [],
   "source": [
    "# Store all the names of the images in the test folder in a list \n",
    "image_names = os.listdir('test')\n",
    "\n",
    "image_root_names = Path('test').ls()\n",
    "\n",
    "# Get Prediction for each Image\n",
    "preds = [np.int(learn.predict(open_image(image))[0]) for image in image_root_names]"
   ]
  },
  {
   "cell_type": "code",
   "execution_count": null,
   "metadata": {
    "colab": {},
    "colab_type": "code",
    "id": "sD9bAbAEYMMm"
   },
   "outputs": [],
   "source": [
    "# Create a DataFrame for our predictions\n",
    "prediction_df = pd.DataFrame({'ImageID':image_names, 'Category': preds})"
   ]
  },
  {
   "cell_type": "code",
   "execution_count": null,
   "metadata": {
    "colab": {},
    "colab_type": "code",
    "id": "3Njr91TFcl3V"
   },
   "outputs": [],
   "source": [
    "# Save our predictions in a csv file called submission.csv\n",
    "prediction_df.to_csv('submission152.csv',index=False)"
   ]
  },
  {
   "cell_type": "code",
   "execution_count": null,
   "metadata": {
    "colab": {
     "base_uri": "https://localhost:8080/",
     "height": 197
    },
    "colab_type": "code",
    "id": "OiqFVGkpNda0",
    "outputId": "3c36b1f9-ff47-4b8e-e0dc-1616da6f83cc"
   },
   "outputs": [],
   "source": [
    "# Get the class to label mapping\n",
    "class_label_map = {'0': 'Sparse Traffic', '1' : 'Dense Traffic', \n",
    "                   '2': 'an Accident', '3': 'Vehicle on Fire'}\n",
    "\n",
    "# Look at some of our predictions\n",
    "prediction_df.head()"
   ]
  },
  {
   "cell_type": "code",
   "execution_count": null,
   "metadata": {
    "colab": {},
    "colab_type": "code",
    "id": "JwRUVLA3TtmN"
   },
   "outputs": [],
   "source": [
    " '''\n",
    " Predict a random image from a directory\n",
    "\n",
    "'''\n",
    "\n",
    "def show_image_pred(images_dir='test', class_map = None):\n",
    "  \n",
    "  image_name_list = Path(images_dir).ls()\n",
    "  \n",
    "  random_img = np.random.randint(len(image_name_list))\n",
    "  img_path = image_name_list[random_img]\n",
    "  pred = 'I predicted class {}'.format(learn.predict(open_image(img_path))[0])\n",
    "  if class_map:\n",
    "    pred = 'My prediction: {}'.format(class_map[learn.predict(open_image(img_path))[0]])\n",
    "  plt.axis('off')\n",
    "  plt.title(pred)\n",
    "  plt.imshow(Image.open(img_path))\n",
    "  "
   ]
  },
  {
   "cell_type": "code",
   "execution_count": null,
   "metadata": {
    "colab": {
     "base_uri": "https://localhost:8080/",
     "height": 237
    },
    "colab_type": "code",
    "id": "dmLUqd67vyIX",
    "outputId": "d340c916-b799-44dd-a365-515fe0c8b53c"
   },
   "outputs": [],
   "source": [
    "show_image_pred(class_map=class_label_map)"
   ]
  },
  {
   "cell_type": "code",
   "execution_count": null,
   "metadata": {
    "colab": {},
    "colab_type": "code",
    "id": "mbJ2yGOi7V1R"
   },
   "outputs": [],
   "source": []
  }
 ],
 "metadata": {
  "accelerator": "GPU",
  "colab": {
   "collapsed_sections": [],
   "name": "Hackathon_sol.ipynb",
   "provenance": [],
   "toc_visible": true
  },
  "kernelspec": {
   "display_name": "Python 3",
   "language": "python",
   "name": "python3"
  },
  "language_info": {
   "codemirror_mode": {
    "name": "ipython",
    "version": 3
   },
   "file_extension": ".py",
   "mimetype": "text/x-python",
   "name": "python",
   "nbconvert_exporter": "python",
   "pygments_lexer": "ipython3",
   "version": "3.7.1"
  }
 },
 "nbformat": 4,
 "nbformat_minor": 1
}
